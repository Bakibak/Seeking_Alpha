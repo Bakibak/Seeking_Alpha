{
 "cells": [
  {
   "cell_type": "code",
   "execution_count": 4,
   "metadata": {},
   "outputs": [],
   "source": [
    "import numpy as np\n",
    "import pandas as pd\n",
    "import matplotlib.pyplot as plt"
   ]
  },
  {
   "cell_type": "code",
   "execution_count": 5,
   "metadata": {},
   "outputs": [],
   "source": [
    "Close = pd.read_csv('Close.csv', index_col = 0)"
   ]
  },
  {
   "cell_type": "code",
   "execution_count": 6,
   "metadata": {},
   "outputs": [
    {
     "data": {
      "text/html": [
       "<div>\n",
       "<style scoped>\n",
       "    .dataframe tbody tr th:only-of-type {\n",
       "        vertical-align: middle;\n",
       "    }\n",
       "\n",
       "    .dataframe tbody tr th {\n",
       "        vertical-align: top;\n",
       "    }\n",
       "\n",
       "    .dataframe thead th {\n",
       "        text-align: right;\n",
       "    }\n",
       "</style>\n",
       "<table border=\"1\" class=\"dataframe\">\n",
       "  <thead>\n",
       "    <tr style=\"text-align: right;\">\n",
       "      <th></th>\n",
       "      <th>iba</th>\n",
       "      <th>wpz</th>\n",
       "      <th>flic</th>\n",
       "      <th>ncs</th>\n",
       "      <th>gpk</th>\n",
       "      <th>wti</th>\n",
       "      <th>mygn</th>\n",
       "      <th>kelya</th>\n",
       "      <th>nycb</th>\n",
       "      <th>elp</th>\n",
       "      <th>...</th>\n",
       "      <th>asx</th>\n",
       "      <th>faro</th>\n",
       "      <th>awk</th>\n",
       "      <th>chn</th>\n",
       "      <th>omex</th>\n",
       "      <th>roic</th>\n",
       "      <th>nbl</th>\n",
       "      <th>atu</th>\n",
       "      <th>xco</th>\n",
       "      <th>apf</th>\n",
       "    </tr>\n",
       "    <tr>\n",
       "      <th>Date</th>\n",
       "      <th></th>\n",
       "      <th></th>\n",
       "      <th></th>\n",
       "      <th></th>\n",
       "      <th></th>\n",
       "      <th></th>\n",
       "      <th></th>\n",
       "      <th></th>\n",
       "      <th></th>\n",
       "      <th></th>\n",
       "      <th></th>\n",
       "      <th></th>\n",
       "      <th></th>\n",
       "      <th></th>\n",
       "      <th></th>\n",
       "      <th></th>\n",
       "      <th></th>\n",
       "      <th></th>\n",
       "      <th></th>\n",
       "      <th></th>\n",
       "      <th></th>\n",
       "    </tr>\n",
       "  </thead>\n",
       "  <tbody>\n",
       "    <tr>\n",
       "      <th>2010-01-04</th>\n",
       "      <td>20.225</td>\n",
       "      <td>22.355</td>\n",
       "      <td>9.3094</td>\n",
       "      <td>10.20</td>\n",
       "      <td>3.4959</td>\n",
       "      <td>9.955</td>\n",
       "      <td>26.66</td>\n",
       "      <td>11.898</td>\n",
       "      <td>9.4832</td>\n",
       "      <td>16.594</td>\n",
       "      <td>...</td>\n",
       "      <td>2.9896</td>\n",
       "      <td>21.90</td>\n",
       "      <td>19.270</td>\n",
       "      <td>12.832</td>\n",
       "      <td>17.76</td>\n",
       "      <td>7.7942</td>\n",
       "      <td>33.864</td>\n",
       "      <td>18.690</td>\n",
       "      <td>303.66</td>\n",
       "      <td>12.231</td>\n",
       "    </tr>\n",
       "    <tr>\n",
       "      <th>2010-01-05</th>\n",
       "      <td>20.858</td>\n",
       "      <td>22.589</td>\n",
       "      <td>9.1551</td>\n",
       "      <td>10.25</td>\n",
       "      <td>3.4577</td>\n",
       "      <td>10.022</td>\n",
       "      <td>26.57</td>\n",
       "      <td>11.954</td>\n",
       "      <td>9.5110</td>\n",
       "      <td>16.765</td>\n",
       "      <td>...</td>\n",
       "      <td>3.0673</td>\n",
       "      <td>20.91</td>\n",
       "      <td>19.466</td>\n",
       "      <td>13.234</td>\n",
       "      <td>17.88</td>\n",
       "      <td>7.8400</td>\n",
       "      <td>34.744</td>\n",
       "      <td>18.780</td>\n",
       "      <td>301.20</td>\n",
       "      <td>12.305</td>\n",
       "    </tr>\n",
       "    <tr>\n",
       "      <th>2010-01-06</th>\n",
       "      <td>20.612</td>\n",
       "      <td>22.637</td>\n",
       "      <td>9.0008</td>\n",
       "      <td>10.05</td>\n",
       "      <td>3.3339</td>\n",
       "      <td>10.217</td>\n",
       "      <td>26.92</td>\n",
       "      <td>11.594</td>\n",
       "      <td>9.5150</td>\n",
       "      <td>16.779</td>\n",
       "      <td>...</td>\n",
       "      <td>3.0390</td>\n",
       "      <td>20.80</td>\n",
       "      <td>19.570</td>\n",
       "      <td>13.442</td>\n",
       "      <td>16.68</td>\n",
       "      <td>7.8477</td>\n",
       "      <td>35.070</td>\n",
       "      <td>18.890</td>\n",
       "      <td>302.01</td>\n",
       "      <td>12.395</td>\n",
       "    </tr>\n",
       "    <tr>\n",
       "      <th>2010-01-07</th>\n",
       "      <td>20.683</td>\n",
       "      <td>22.269</td>\n",
       "      <td>9.0205</td>\n",
       "      <td>10.40</td>\n",
       "      <td>3.5341</td>\n",
       "      <td>10.115</td>\n",
       "      <td>26.50</td>\n",
       "      <td>11.695</td>\n",
       "      <td>9.7720</td>\n",
       "      <td>16.454</td>\n",
       "      <td>...</td>\n",
       "      <td>3.2582</td>\n",
       "      <td>21.65</td>\n",
       "      <td>19.613</td>\n",
       "      <td>13.120</td>\n",
       "      <td>17.52</td>\n",
       "      <td>7.8707</td>\n",
       "      <td>34.599</td>\n",
       "      <td>19.175</td>\n",
       "      <td>292.72</td>\n",
       "      <td>12.345</td>\n",
       "    </tr>\n",
       "    <tr>\n",
       "      <th>2010-01-08</th>\n",
       "      <td>21.085</td>\n",
       "      <td>22.192</td>\n",
       "      <td>8.9584</td>\n",
       "      <td>11.35</td>\n",
       "      <td>3.4197</td>\n",
       "      <td>10.149</td>\n",
       "      <td>26.19</td>\n",
       "      <td>11.485</td>\n",
       "      <td>9.8060</td>\n",
       "      <td>16.779</td>\n",
       "      <td>...</td>\n",
       "      <td>3.2016</td>\n",
       "      <td>21.25</td>\n",
       "      <td>19.570</td>\n",
       "      <td>13.106</td>\n",
       "      <td>17.52</td>\n",
       "      <td>7.8785</td>\n",
       "      <td>34.813</td>\n",
       "      <td>19.474</td>\n",
       "      <td>296.55</td>\n",
       "      <td>12.435</td>\n",
       "    </tr>\n",
       "  </tbody>\n",
       "</table>\n",
       "<p>5 rows × 2436 columns</p>\n",
       "</div>"
      ],
      "text/plain": [
       "               iba     wpz    flic    ncs     gpk     wti   mygn   kelya  \\\n",
       "Date                                                                       \n",
       "2010-01-04  20.225  22.355  9.3094  10.20  3.4959   9.955  26.66  11.898   \n",
       "2010-01-05  20.858  22.589  9.1551  10.25  3.4577  10.022  26.57  11.954   \n",
       "2010-01-06  20.612  22.637  9.0008  10.05  3.3339  10.217  26.92  11.594   \n",
       "2010-01-07  20.683  22.269  9.0205  10.40  3.5341  10.115  26.50  11.695   \n",
       "2010-01-08  21.085  22.192  8.9584  11.35  3.4197  10.149  26.19  11.485   \n",
       "\n",
       "              nycb     elp  ...     asx   faro     awk     chn   omex    roic  \\\n",
       "Date                        ...                                                 \n",
       "2010-01-04  9.4832  16.594  ...  2.9896  21.90  19.270  12.832  17.76  7.7942   \n",
       "2010-01-05  9.5110  16.765  ...  3.0673  20.91  19.466  13.234  17.88  7.8400   \n",
       "2010-01-06  9.5150  16.779  ...  3.0390  20.80  19.570  13.442  16.68  7.8477   \n",
       "2010-01-07  9.7720  16.454  ...  3.2582  21.65  19.613  13.120  17.52  7.8707   \n",
       "2010-01-08  9.8060  16.779  ...  3.2016  21.25  19.570  13.106  17.52  7.8785   \n",
       "\n",
       "               nbl     atu     xco     apf  \n",
       "Date                                        \n",
       "2010-01-04  33.864  18.690  303.66  12.231  \n",
       "2010-01-05  34.744  18.780  301.20  12.305  \n",
       "2010-01-06  35.070  18.890  302.01  12.395  \n",
       "2010-01-07  34.599  19.175  292.72  12.345  \n",
       "2010-01-08  34.813  19.474  296.55  12.435  \n",
       "\n",
       "[5 rows x 2436 columns]"
      ]
     },
     "execution_count": 6,
     "metadata": {},
     "output_type": "execute_result"
    }
   ],
   "source": [
    "Close.head()"
   ]
  },
  {
   "cell_type": "code",
   "execution_count": 7,
   "metadata": {},
   "outputs": [
    {
     "data": {
      "text/plain": [
       "(1256, 2436)"
      ]
     },
     "execution_count": 7,
     "metadata": {},
     "output_type": "execute_result"
    }
   ],
   "source": [
    "Close.shape"
   ]
  },
  {
   "cell_type": "markdown",
   "metadata": {},
   "source": [
    "## Доходности"
   ]
  },
  {
   "cell_type": "code",
   "execution_count": 8,
   "metadata": {},
   "outputs": [],
   "source": [
    "returns = (Close - Close.shift(1))/Close.shift(1)"
   ]
  },
  {
   "cell_type": "markdown",
   "metadata": {},
   "source": [
    "## Альфа"
   ]
  },
  {
   "cell_type": "code",
   "execution_count": 6,
   "metadata": {},
   "outputs": [],
   "source": [
    "def alpha_func(Close):\n",
    "    \n",
    "    #Q = np.array((Close.shift(2)-Close.shift(3))/Close.shift(3)) # пример momentum-стратегии \n",
    "    #Q = np.array((Close.shift(3)-Close.shift(2))/Close.shift(2)) # пример reversion-стратегии \n",
    "    Q_mean = np.array([Q.mean(axis=1)]*Close.shape[1]).T\n",
    "    chislitel = Q - Q_mean\n",
    "    znamenatel = np.array([np.linalg.norm(chislitel, axis = 1, ord = 1)]*Close.shape[1]).T\n",
    "    alpha = pd.DataFrame(chislitel/znamenatel)\n",
    "    alpha.columns = Close.columns\n",
    "    alpha.index = Close.index\n",
    "    \n",
    "    return alpha"
   ]
  },
  {
   "cell_type": "code",
   "execution_count": 7,
   "metadata": {},
   "outputs": [],
   "source": [
    "alpha = alpha_func(Close)"
   ]
  },
  {
   "cell_type": "code",
   "execution_count": 8,
   "metadata": {},
   "outputs": [],
   "source": [
    "def decay(alpha, n):\n",
    "    ## код операции decay с циклом\n",
    "    \n",
    "\n",
    "    return result"
   ]
  },
  {
   "cell_type": "code",
   "execution_count": 9,
   "metadata": {},
   "outputs": [],
   "source": [
    "#alpha = decay(alpha, n = )"
   ]
  },
  {
   "cell_type": "markdown",
   "metadata": {},
   "source": [
    "## Кумулятивный PnL"
   ]
  },
  {
   "cell_type": "code",
   "execution_count": 10,
   "metadata": {},
   "outputs": [],
   "source": [
    "result = returns*alpha.shift(1)"
   ]
  },
  {
   "cell_type": "code",
   "execution_count": 11,
   "metadata": {},
   "outputs": [],
   "source": [
    "PnL = pd.DataFrame(np.sum(result, axis = 1))"
   ]
  },
  {
   "cell_type": "code",
   "execution_count": 12,
   "metadata": {},
   "outputs": [
    {
     "data": {
      "image/png": "[encoded data removed]",
      "text/plain": [
       "<Figure size 432x288 with 1 Axes>"
      ]
     },
     "metadata": {
      "needs_background": "light"
     },
     "output_type": "display_data"
    }
   ],
   "source": [
    "plt.plot(PnL.values.cumsum())\n",
    "plt.title('PnL')\n",
    "plt.show()"
   ]
  },
  {
   "cell_type": "markdown",
   "metadata": {},
   "source": [
    "# ПОКАЗАТЕЛИ ПО ГОДАМ"
   ]
  },
  {
   "cell_type": "code",
   "execution_count": 13,
   "metadata": {},
   "outputs": [],
   "source": [
    "# Создаем колонку с годом для последующего фильтра\n",
    "\n",
    "Close.reset_index(inplace=True)\n",
    "Close['year'] = Close.Date.apply(lambda x: pd.to_datetime(x).year)"
   ]
  },
  {
   "cell_type": "code",
   "execution_count": 14,
   "metadata": {},
   "outputs": [
    {
     "name": "stdout",
     "output_type": "stream",
     "text": [
      "2010 \n",
      "Start-индекс: 0 \n",
      "End-индекс: 252 \n",
      "*******************\n",
      "2011 \n",
      "Start-индекс: 252 \n",
      "End-индекс: 503 \n",
      "*******************\n",
      "2012 \n",
      "Start-индекс: 503 \n",
      "End-индекс: 753 \n",
      "*******************\n",
      "2013 \n",
      "Start-индекс: 753 \n",
      "End-индекс: 1005 \n",
      "*******************\n",
      "2014 \n",
      "Start-индекс: 1005 \n",
      "End-индекс: 1256 \n",
      "*******************\n"
     ]
    }
   ],
   "source": [
    "# Цикл, чтобы вывести индексы\n",
    "\n",
    "years = [2010, 2011, 2012, 2013, 2014]\n",
    "for y in years:\n",
    "    print(y, '\\n'\n",
    "          'Start-индекс:', Close[Close.year == y].index[0], '\\n'\n",
    "          'End-индекс:', Close[Close.year == y].index[-1] + 1, '\\n'\n",
    "         '*******************')"
   ]
  },
  {
   "cell_type": "markdown",
   "metadata": {},
   "source": [
    "* __Turnover__"
   ]
  },
  {
   "cell_type": "code",
   "execution_count": 15,
   "metadata": {},
   "outputs": [
    {
     "data": {
      "text/plain": [
       "143.09090600286993"
      ]
     },
     "execution_count": 15,
     "metadata": {},
     "output_type": "execute_result"
    }
   ],
   "source": [
    "turnover_2010 = np.mean(np.sum(np.abs(alpha.iloc[0:252] - alpha.iloc[0:252].shift(1)), axis=1)*100)\n",
    "turnover_2010"
   ]
  },
  {
   "cell_type": "markdown",
   "metadata": {},
   "source": [
    "* __Sharpe__"
   ]
  },
  {
   "cell_type": "code",
   "execution_count": 16,
   "metadata": {},
   "outputs": [
    {
     "data": {
      "text/plain": [
       "0.82182396341894"
      ]
     },
     "execution_count": 16,
     "metadata": {},
     "output_type": "execute_result"
    }
   ],
   "source": [
    "PnL_2010 = PnL.iloc[0:252]\n",
    "sharpe_2010 = np.mean(PnL_2010)/np.std(PnL_2010)\n",
    "sharpe_2010 = sharpe_2010[0]*np.sqrt(252)\n",
    "sharpe_2010"
   ]
  },
  {
   "cell_type": "markdown",
   "metadata": {},
   "source": [
    "* __PnL Returns__"
   ]
  },
  {
   "cell_type": "code",
   "execution_count": 17,
   "metadata": {},
   "outputs": [
    {
     "name": "stdout",
     "output_type": "stream",
     "text": [
      "2010 \n",
      "Start-индекс: 0 \n",
      "End-индекс: 251 \n",
      "*******************\n",
      "2011 \n",
      "Start-индекс: 252 \n",
      "End-индекс: 502 \n",
      "*******************\n",
      "2012 \n",
      "Start-индекс: 503 \n",
      "End-индекс: 752 \n",
      "*******************\n",
      "2013 \n",
      "Start-индекс: 753 \n",
      "End-индекс: 1004 \n",
      "*******************\n",
      "2014 \n",
      "Start-индекс: 1005 \n",
      "End-индекс: 1255 \n",
      "*******************\n"
     ]
    }
   ],
   "source": [
    "# Цикл, чтобы вывести индексы\n",
    "\n",
    "years = [2010, 2011, 2012, 2013, 2014]\n",
    "for y in years:\n",
    "    print(y, '\\n'\n",
    "          'Start-индекс:', Close[Close.year == y].index[0], '\\n'\n",
    "          'End-индекс:', Close[Close.year == y].index[-1] , '\\n'\n",
    "         '*******************')"
   ]
  },
  {
   "cell_type": "code",
   "execution_count": 18,
   "metadata": {},
   "outputs": [],
   "source": [
    "PnL_cumsum = pd.DataFrame(PnL.values.cumsum())\n",
    "PnL_cumsum.index = PnL.index"
   ]
  },
  {
   "cell_type": "code",
   "execution_count": 19,
   "metadata": {},
   "outputs": [
    {
     "data": {
      "text/plain": [
       "0.05213839696838555"
      ]
     },
     "execution_count": 19,
     "metadata": {},
     "output_type": "execute_result"
    }
   ],
   "source": [
    "PnL_2010 = PnL_cumsum.iloc[251,0]-PnL_cumsum.iloc[0,0]\n",
    "PnL_2010"
   ]
  },
  {
   "cell_type": "code",
   "execution_count": 20,
   "metadata": {},
   "outputs": [
    {
     "data": {
      "text/plain": [
       "0.18687678500126215"
      ]
     },
     "execution_count": 20,
     "metadata": {},
     "output_type": "execute_result"
    }
   ],
   "source": [
    "PnL_2011 = PnL_cumsum.iloc[502,0]-PnL_cumsum.iloc[252,0]\n",
    "PnL_2011"
   ]
  }
 ],
 "metadata": {
  "kernelspec": {
   "display_name": "Python 3 (ipykernel)",
   "language": "python",
   "name": "python3"
  },
  "language_info": {
   "codemirror_mode": {
    "name": "ipython",
    "version": 3
   },
   "file_extension": ".py",
   "mimetype": "text/x-python",
   "name": "python",
   "nbconvert_exporter": "python",
   "pygments_lexer": "ipython3",
   "version": "3.11.4"
  }
 },
 "nbformat": 4,
 "nbformat_minor": 2
}
